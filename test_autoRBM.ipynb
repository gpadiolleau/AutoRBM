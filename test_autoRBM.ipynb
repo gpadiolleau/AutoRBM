{
 "cells": [
  {
   "cell_type": "code",
   "execution_count": 1,
   "metadata": {},
   "outputs": [],
   "source": [
    "from src.network_description import NeuralLayer, LinearLayer, InteractionLink, GraphDescription\n",
    "from src.JAX.RBM.constructor import RBM\n",
    "\n",
    "import numpy as np\n",
    "import jax.numpy as jnp\n",
    "import jax\n",
    "\n",
    "from timeit import timeit"
   ]
  },
  {
   "cell_type": "code",
   "execution_count": 2,
   "metadata": {},
   "outputs": [],
   "source": [
    "layer1 = NeuralLayer(name=\"v1\", type=\"Gaussian\", units_number=16*16, priority=0)\n",
    "layer2 = NeuralLayer(name=\"v2\", type=\"Gaussian\", units_number=16*16, priority=0)\n",
    "layer3 = NeuralLayer(name=\"h1\", type=\"Binary\", units_number=100, priority=1)\n",
    "layer4 = LinearLayer(name=\"F1\", units_number=32)\n",
    "layer5 = NeuralLayer(name=\"h2\", type=\"Binary\", units_number=300, priority=1)\n",
    "layer6 = LinearLayer(name=\"F2\", units_number=64)\n",
    "layer7 = NeuralLayer(name=\"h3\", type=\"Binary\", units_number=133, priority=2)\n",
    "layer8 = NeuralLayer(name=\"h4\", type=\"Binary\", units_number=144, priority=1)\n",
    "\n",
    "layers = [layer1, layer2, layer3, layer4, layer5, layer6, layer7, layer8]"
   ]
  },
  {
   "cell_type": "code",
   "execution_count": 3,
   "metadata": {},
   "outputs": [],
   "source": [
    "link1 = InteractionLink(layer1, layer4, bidirectional=False)\n",
    "link2 = InteractionLink(layer2, layer4)\n",
    "link3 = InteractionLink(layer3, layer4)\n",
    "link4 = InteractionLink(layer1, layer2, bidirectional=False)\n",
    "link5 = InteractionLink(layer1, layer5, bidirectional=False)\n",
    "link6 = InteractionLink(layer1, layer6, bidirectional=False)\n",
    "link7 = InteractionLink(layer5, layer6)\n",
    "link8 = InteractionLink(layer3, layer6)\n",
    "link9 = InteractionLink(layer3, layer7)\n",
    "link10 = InteractionLink(layer3, layer8, bidirectional=False)\n",
    "\n",
    "\n",
    "links = [link1, link2, link3, link4, link5, link6,link7, link8, link9, link10]"
   ]
  },
  {
   "cell_type": "code",
   "execution_count": 4,
   "metadata": {},
   "outputs": [],
   "source": [
    "my_graph = GraphDescription(layers, links)"
   ]
  },
  {
   "cell_type": "code",
   "execution_count": 5,
   "metadata": {},
   "outputs": [],
   "source": [
    "my_rbm = RBM(my_graph)"
   ]
  },
  {
   "cell_type": "code",
   "execution_count": 6,
   "metadata": {},
   "outputs": [],
   "source": [
    "placeholders = dict()\n",
    "for layer in my_graph.nodes:\n",
    "    if type(layer).__name__ == \"NeuralLayer\":\n",
    "        placeholders[layer.name] = np.clip(np.random.random((layer.units_number,)),0,1)"
   ]
  },
  {
   "cell_type": "code",
   "execution_count": 7,
   "metadata": {},
   "outputs": [],
   "source": [
    "batch_size = 128\n",
    "batched_placeholders = dict()\n",
    "for layer in my_graph.nodes:\n",
    "    if type(layer).__name__ == \"NeuralLayer\":\n",
    "        batched_placeholders[layer.name] = np.clip(np.random.random((batch_size,layer.units_number)),0,1)"
   ]
  },
  {
   "cell_type": "code",
   "execution_count": 8,
   "metadata": {},
   "outputs": [
    {
     "name": "stdout",
     "output_type": "stream",
     "text": [
      "4.83 ms ± 650 µs per loop (mean ± std. dev. of 7 runs, 1 loop each)\n"
     ]
    }
   ],
   "source": [
    "%timeit my_rbm._get_energy(*list(placeholders.values()), weights_dict=my_rbm.weights_dict, biases_dict=my_rbm.biases_dict, sigmas_dict=my_rbm.sigmas_dict)"
   ]
  },
  {
   "cell_type": "code",
   "execution_count": 9,
   "metadata": {},
   "outputs": [
    {
     "name": "stdout",
     "output_type": "stream",
     "text": [
      "The slowest run took 13.76 times longer than the fastest. This could mean that an intermediate result is being cached.\n",
      "931 µs ± 1.15 ms per loop (mean ± std. dev. of 7 runs, 1 loop each)\n"
     ]
    }
   ],
   "source": [
    "%timeit my_rbm.get_energy(*list(placeholders.values()))"
   ]
  },
  {
   "cell_type": "code",
   "execution_count": 10,
   "metadata": {},
   "outputs": [
    {
     "name": "stdout",
     "output_type": "stream",
     "text": [
      "43.1 ms ± 2.45 ms per loop (mean ± std. dev. of 7 runs, 1 loop each)\n"
     ]
    }
   ],
   "source": [
    "%timeit my_rbm._batched_get_energy(*list(batched_placeholders.values()), weights_dict=my_rbm.weights_dict, biases_dict=my_rbm.biases_dict, sigmas_dict=my_rbm.sigmas_dict)"
   ]
  },
  {
   "cell_type": "code",
   "execution_count": 11,
   "metadata": {},
   "outputs": [
    {
     "name": "stdout",
     "output_type": "stream",
     "text": [
      "483 µs ± 77 µs per loop (mean ± std. dev. of 7 runs, 1 loop each)\n"
     ]
    }
   ],
   "source": [
    "%timeit my_rbm.batched_get_energy(*list(batched_placeholders.values()))"
   ]
  },
  {
   "cell_type": "code",
   "execution_count": 12,
   "metadata": {},
   "outputs": [
    {
     "name": "stdout",
     "output_type": "stream",
     "text": [
      "70.2 ms ± 3.11 ms per loop (mean ± std. dev. of 7 runs, 1 loop each)\n"
     ]
    }
   ],
   "source": [
    "%timeit my_rbm._get_energy_grad(*list(placeholders.values()), my_rbm.weights_dict, my_rbm.biases_dict, my_rbm.sigmas_dict)"
   ]
  },
  {
   "cell_type": "code",
   "execution_count": 13,
   "metadata": {},
   "outputs": [
    {
     "name": "stdout",
     "output_type": "stream",
     "text": [
      "90.6 ms ± 1.88 ms per loop (mean ± std. dev. of 7 runs, 1 loop each)\n"
     ]
    }
   ],
   "source": [
    "%timeit my_rbm._batched_get_energy_grad(*list(batched_placeholders.values()), my_rbm.weights_dict, my_rbm.biases_dict, my_rbm.sigmas_dict)"
   ]
  },
  {
   "cell_type": "code",
   "execution_count": 14,
   "metadata": {},
   "outputs": [
    {
     "name": "stdout",
     "output_type": "stream",
     "text": [
      "408 µs ± 191 µs per loop (mean ± std. dev. of 7 runs, 1 loop each)\n"
     ]
    }
   ],
   "source": [
    "%timeit my_rbm.get_energy_grad(*list(placeholders.values()))"
   ]
  },
  {
   "cell_type": "code",
   "execution_count": 15,
   "metadata": {},
   "outputs": [
    {
     "name": "stdout",
     "output_type": "stream",
     "text": [
      "615 µs ± 115 µs per loop (mean ± std. dev. of 7 runs, 1 loop each)\n"
     ]
    }
   ],
   "source": [
    "%timeit my_rbm.batched_get_energy_grad(*list(batched_placeholders.values()))"
   ]
  },
  {
   "cell_type": "code",
   "execution_count": 16,
   "metadata": {},
   "outputs": [
    {
     "name": "stdout",
     "output_type": "stream",
     "text": [
      "1.38 ms ± 163 µs per loop (mean ± std. dev. of 7 runs, 1 loop each)\n"
     ]
    }
   ],
   "source": [
    "%timeit my_rbm.bottom_up_propagation(v1=placeholders['v1'], v2=placeholders['v2'], verbose=False)"
   ]
  },
  {
   "cell_type": "code",
   "execution_count": 17,
   "metadata": {},
   "outputs": [
    {
     "name": "stdout",
     "output_type": "stream",
     "text": [
      "1.41 ms ± 155 µs per loop (mean ± std. dev. of 7 runs, 1 loop each)\n"
     ]
    }
   ],
   "source": [
    "%timeit my_rbm.get_positive_states(v1=placeholders['v1'], v2=placeholders['v2'])"
   ]
  },
  {
   "cell_type": "code",
   "execution_count": 19,
   "metadata": {},
   "outputs": [
    {
     "name": "stdout",
     "output_type": "stream",
     "text": [
      "2.89 ms ± 118 µs per loop (mean ± std. dev. of 7 runs, 1 loop each)\n"
     ]
    }
   ],
   "source": [
    "%timeit my_rbm.get_negative_states(h3=placeholders['h3'], v1=placeholders['v1'])"
   ]
  },
  {
   "cell_type": "code",
   "execution_count": 22,
   "metadata": {},
   "outputs": [
    {
     "name": "stdout",
     "output_type": "stream",
     "text": [
      "3.36 ms ± 65.3 µs per loop (mean ± std. dev. of 7 runs, 1 loop each)\n"
     ]
    }
   ],
   "source": [
    "%timeit my_rbm.batched_bottom_up_propagation(batched_placeholders[\"v1\"], batched_placeholders[\"v2\"])"
   ]
  },
  {
   "cell_type": "code",
   "execution_count": 23,
   "metadata": {},
   "outputs": [
    {
     "name": "stdout",
     "output_type": "stream",
     "text": [
      "3.08 ms ± 232 µs per loop (mean ± std. dev. of 7 runs, 1 loop each)\n"
     ]
    }
   ],
   "source": [
    "%timeit my_rbm.batched_top_down_propagation(batched_placeholders['h3'], batched_placeholders['v1'])"
   ]
  },
  {
   "cell_type": "code",
   "execution_count": 26,
   "metadata": {},
   "outputs": [
    {
     "name": "stdout",
     "output_type": "stream",
     "text": [
      "3.22 ms ± 68.3 µs per loop (mean ± std. dev. of 7 runs, 1 loop each)\n"
     ]
    }
   ],
   "source": [
    "%timeit my_rbm.batched_get_positive_states(batched_placeholders['v1'], batched_placeholders['v2'])"
   ]
  },
  {
   "cell_type": "code",
   "execution_count": 27,
   "metadata": {},
   "outputs": [
    {
     "name": "stdout",
     "output_type": "stream",
     "text": [
      "5.73 ms ± 121 µs per loop (mean ± std. dev. of 7 runs, 1 loop each)\n"
     ]
    }
   ],
   "source": [
    "%timeit my_rbm.batched_get_negative_states(batched_placeholders['h3'], batched_placeholders['v1'])"
   ]
  },
  {
   "cell_type": "code",
   "execution_count": 29,
   "metadata": {},
   "outputs": [
    {
     "name": "stdout",
     "output_type": "stream",
     "text": [
      "472 µs ± 48.5 µs per loop (mean ± std. dev. of 7 runs, 1,000 loops each)\n"
     ]
    }
   ],
   "source": [
    "%timeit my_rbm.batched_get_energy(*[batched_placeholders[k]for k in ['v1', 'v2', 'h1', 'h2', 'h3', 'h4']])"
   ]
  },
  {
   "cell_type": "code",
   "execution_count": 30,
   "metadata": {},
   "outputs": [
    {
     "name": "stdout",
     "output_type": "stream",
     "text": [
      "413 µs ± 37 µs per loop (mean ± std. dev. of 7 runs, 1,000 loops each)\n"
     ]
    }
   ],
   "source": [
    "%timeit my_rbm.batched_get_energy(*[batched_placeholders[k] for k in ['v1', 'v2', 'h1', 'h2', 'h3', 'h4']])"
   ]
  },
  {
   "cell_type": "code",
   "execution_count": 31,
   "metadata": {},
   "outputs": [
    {
     "name": "stdout",
     "output_type": "stream",
     "text": [
      "550 µs ± 56.9 µs per loop (mean ± std. dev. of 7 runs, 1,000 loops each)\n"
     ]
    }
   ],
   "source": [
    "%timeit my_rbm.batched_get_energy_grad(*[batched_placeholders[k] for k in ['v1', 'v2', 'h1', 'h2', 'h3', 'h4']])"
   ]
  },
  {
   "cell_type": "code",
   "execution_count": 32,
   "metadata": {},
   "outputs": [
    {
     "name": "stdout",
     "output_type": "stream",
     "text": [
      "3.81 ms ± 252 µs per loop (mean ± std. dev. of 7 runs, 1 loop each)\n"
     ]
    }
   ],
   "source": [
    "%timeit my_rbm.CD_k(v1=placeholders['v1'], v2=placeholders['v2'], K=5)"
   ]
  },
  {
   "cell_type": "code",
   "execution_count": 39,
   "metadata": {},
   "outputs": [
    {
     "name": "stdout",
     "output_type": "stream",
     "text": [
      "\u001b[0;31mSignature:\u001b[0m     \n",
      "\u001b[0mmy_rbm\u001b[0m\u001b[0;34m.\u001b[0m\u001b[0mbatched_CD_k\u001b[0m\u001b[0;34m(\u001b[0m\u001b[0;34m\u001b[0m\n",
      "\u001b[0;34m\u001b[0m    \u001b[0mv1\u001b[0m\u001b[0;34m,\u001b[0m\u001b[0;34m\u001b[0m\n",
      "\u001b[0;34m\u001b[0m    \u001b[0mv2\u001b[0m\u001b[0;34m,\u001b[0m\u001b[0;34m\u001b[0m\n",
      "\u001b[0;34m\u001b[0m    \u001b[0mK\u001b[0m\u001b[0;34m=\u001b[0m\u001b[0;36m5\u001b[0m\u001b[0;34m,\u001b[0m\u001b[0;34m\u001b[0m\n",
      "\u001b[0;34m\u001b[0m    \u001b[0mNb_stabilization_steps\u001b[0m\u001b[0;34m=\u001b[0m\u001b[0;36m5\u001b[0m\u001b[0;34m,\u001b[0m\u001b[0;34m\u001b[0m\n",
      "\u001b[0;34m\u001b[0m    \u001b[0mespsilon_stabilization\u001b[0m\u001b[0;34m=\u001b[0m\u001b[0;36m1e-10\u001b[0m\u001b[0;34m,\u001b[0m\u001b[0;34m\u001b[0m\n",
      "\u001b[0;34m\u001b[0m\u001b[0;34m)\u001b[0m\u001b[0;34m\u001b[0m\u001b[0;34m\u001b[0m\u001b[0m\n",
      "\u001b[0;31mCall signature:\u001b[0m \u001b[0mmy_rbm\u001b[0m\u001b[0;34m.\u001b[0m\u001b[0mbatched_CD_k\u001b[0m\u001b[0;34m(\u001b[0m\u001b[0;34m*\u001b[0m\u001b[0margs\u001b[0m\u001b[0;34m,\u001b[0m \u001b[0;34m**\u001b[0m\u001b[0mkwargs\u001b[0m\u001b[0;34m)\u001b[0m\u001b[0;34m\u001b[0m\u001b[0;34m\u001b[0m\u001b[0m\n",
      "\u001b[0;31mType:\u001b[0m           PjitFunction\n",
      "\u001b[0;31mString form:\u001b[0m    <PjitFunction of <function _create_compute_grads_fns.<locals>.batched_CD_k_fn at 0x7f93e1ead430>>\n",
      "\u001b[0;31mFile:\u001b[0m           ~/Workspace/Pytorch_JAX/Boltzmann_Machines/src/JAX/RBM/constructor_helpers.py\n",
      "\u001b[0;31mDocstring:\u001b[0m     \n",
      "** Batched version of CD_k**\n",
      "\n",
      "Computes CD-k gradients given graph inputs\n",
      "Args:\n",
      "        v1 : Array of same shape as v1 layer, representing values for input vector of layer 'v1'\n",
      "        v2 : Array of same shape as v2 layer, representing values for input vector of layer 'v2'\n",
      "        K (int) : Number of stabilization steps for inner graph stage stabilization if there are co-dependent layers. \n",
      "                     Default value K=5.\n",
      "        Nb_stabilization_steps (int) : Number of stabilization steps for hidden layers stack. \n",
      "                     Default value Nb_stabilization_steps=5.\n",
      "        espsilon_stabilization (float) : Minimum difference value between pre- and post-stabilization steps layers states used for early stopping stabilization. \n",
      "                     Default value to espsilon_stabilization=1e-10.\n",
      "Returns:\n",
      "         dict : A dictionnary of gradients for each trainable parameters. The dictionnary takes structure : dict('parameter_name':gradient_value)."
     ]
    }
   ],
   "source": [
    "my_rbm.batched_CD_k?"
   ]
  },
  {
   "cell_type": "code",
   "execution_count": 40,
   "metadata": {},
   "outputs": [
    {
     "name": "stdout",
     "output_type": "stream",
     "text": [
      "8.87 ms ± 80.1 µs per loop (mean ± std. dev. of 7 runs, 1 loop each)\n"
     ]
    }
   ],
   "source": [
    "%timeit my_rbm.batched_CD_k(v1=batched_placeholders['v1'], v2=batched_placeholders['v2'], K=1)"
   ]
  },
  {
   "cell_type": "code",
   "execution_count": 41,
   "metadata": {},
   "outputs": [
    {
     "name": "stdout",
     "output_type": "stream",
     "text": [
      "8.73 ms ± 203 µs per loop (mean ± std. dev. of 7 runs, 1 loop each)\n"
     ]
    }
   ],
   "source": [
    "%timeit my_rbm.batched_CD_k(v1=batched_placeholders['v1'], v2=batched_placeholders['v2'], K=2)"
   ]
  },
  {
   "cell_type": "code",
   "execution_count": 42,
   "metadata": {},
   "outputs": [
    {
     "name": "stdout",
     "output_type": "stream",
     "text": [
      "7.17 ms ± 51.2 µs per loop (mean ± std. dev. of 7 runs, 100 loops each)\n"
     ]
    }
   ],
   "source": [
    "%timeit my_rbm.batched_CD_k(v1=batched_placeholders['v1'], v2=batched_placeholders['v2'], K=5)"
   ]
  },
  {
   "cell_type": "code",
   "execution_count": 43,
   "metadata": {},
   "outputs": [
    {
     "name": "stdout",
     "output_type": "stream",
     "text": [
      "8.82 ms ± 208 µs per loop (mean ± std. dev. of 7 runs, 1 loop each)\n"
     ]
    }
   ],
   "source": [
    "%timeit my_rbm.batched_CD_k(v1=batched_placeholders['v1'], v2=batched_placeholders['v2'], K=10)"
   ]
  },
  {
   "cell_type": "code",
   "execution_count": 44,
   "metadata": {},
   "outputs": [
    {
     "name": "stdout",
     "output_type": "stream",
     "text": [
      "8.77 ms ± 295 µs per loop (mean ± std. dev. of 7 runs, 1 loop each)\n"
     ]
    }
   ],
   "source": [
    "%timeit my_rbm.batched_CD_k(v1=batched_placeholders['v1'], v2=batched_placeholders['v2'], K=1, Nb_stabilization_steps=1)"
   ]
  },
  {
   "cell_type": "code",
   "execution_count": 45,
   "metadata": {},
   "outputs": [
    {
     "name": "stdout",
     "output_type": "stream",
     "text": [
      "8.82 ms ± 165 µs per loop (mean ± std. dev. of 7 runs, 1 loop each)\n"
     ]
    }
   ],
   "source": [
    "%timeit my_rbm.batched_CD_k(v1=batched_placeholders['v1'], v2=batched_placeholders['v2'], K=1, Nb_stabilization_steps=10)"
   ]
  },
  {
   "cell_type": "code",
   "execution_count": 46,
   "metadata": {},
   "outputs": [
    {
     "name": "stdout",
     "output_type": "stream",
     "text": [
      "8.86 ms ± 194 µs per loop (mean ± std. dev. of 7 runs, 1 loop each)\n"
     ]
    }
   ],
   "source": [
    "%timeit my_rbm.batched_CD_k(v1=batched_placeholders['v1'], v2=batched_placeholders['v2'], K=10, Nb_stabilization_steps=10)"
   ]
  },
  {
   "cell_type": "code",
   "execution_count": 47,
   "metadata": {},
   "outputs": [
    {
     "name": "stdout",
     "output_type": "stream",
     "text": [
      "\u001b[0;31mSignature:\u001b[0m     \n",
      "\u001b[0mmy_rbm\u001b[0m\u001b[0;34m.\u001b[0m\u001b[0mtest\u001b[0m\u001b[0;34m(\u001b[0m\u001b[0;34m\u001b[0m\n",
      "\u001b[0;34m\u001b[0m    \u001b[0;34m*\u001b[0m\u001b[0margs\u001b[0m\u001b[0;34m,\u001b[0m\u001b[0;34m\u001b[0m\n",
      "\u001b[0;34m\u001b[0m    \u001b[0mK\u001b[0m\u001b[0;34m=\u001b[0m\u001b[0;36m5\u001b[0m\u001b[0;34m,\u001b[0m\u001b[0;34m\u001b[0m\n",
      "\u001b[0;34m\u001b[0m    \u001b[0mNb_stabilization_steps\u001b[0m\u001b[0;34m=\u001b[0m\u001b[0;36m5\u001b[0m\u001b[0;34m,\u001b[0m\u001b[0;34m\u001b[0m\n",
      "\u001b[0;34m\u001b[0m    \u001b[0mespsilon_stabilization\u001b[0m\u001b[0;34m=\u001b[0m\u001b[0;36m1e-10\u001b[0m\u001b[0;34m,\u001b[0m\u001b[0;34m\u001b[0m\n",
      "\u001b[0;34m\u001b[0m    \u001b[0;34m**\u001b[0m\u001b[0mkwargs\u001b[0m\u001b[0;34m,\u001b[0m\u001b[0;34m\u001b[0m\n",
      "\u001b[0;34m\u001b[0m\u001b[0;34m)\u001b[0m\u001b[0;34m\u001b[0m\u001b[0;34m\u001b[0m\u001b[0m\n",
      "\u001b[0;31mCall signature:\u001b[0m \u001b[0mmy_rbm\u001b[0m\u001b[0;34m.\u001b[0m\u001b[0mtest\u001b[0m\u001b[0;34m(\u001b[0m\u001b[0;34m*\u001b[0m\u001b[0margs\u001b[0m\u001b[0;34m,\u001b[0m \u001b[0;34m**\u001b[0m\u001b[0mkwargs\u001b[0m\u001b[0;34m)\u001b[0m\u001b[0;34m\u001b[0m\u001b[0;34m\u001b[0m\u001b[0m\n",
      "\u001b[0;31mType:\u001b[0m           PjitFunction\n",
      "\u001b[0;31mString form:\u001b[0m    <PjitFunction of <function _create_train_and_test_fns.<locals>.test_fn at 0x7f93e1eb1700>>\n",
      "\u001b[0;31mFile:\u001b[0m           ~/Workspace/Pytorch_JAX/Boltzmann_Machines/src/JAX/RBM/constructor_helpers.py"
     ]
    }
   ],
   "source": [
    "my_rbm.test?"
   ]
  },
  {
   "cell_type": "code",
   "execution_count": 35,
   "metadata": {},
   "outputs": [],
   "source": [
    "def mse(ground_truths, predictions):\n",
    "    return [jnp.mean(jnp.sqrt(jnp.mean(jnp.square(gt['probabilities']-pred['probabilities']), 1))) for gt,pred in zip(ground_truths, predictions)]"
   ]
  },
  {
   "cell_type": "code",
   "execution_count": 36,
   "metadata": {},
   "outputs": [],
   "source": [
    "def sse(ground_truths, predictions):\n",
    "    return [jnp.mean(jnp.sqrt(jnp.sum(jnp.square(gt['probabilities']-pred['probabilities']), 1))) for gt,pred in zip(ground_truths, predictions)]"
   ]
  },
  {
   "cell_type": "code",
   "execution_count": 48,
   "metadata": {},
   "outputs": [
    {
     "name": "stdout",
     "output_type": "stream",
     "text": [
      "2.15 s ± 16.9 ms per loop (mean ± std. dev. of 7 runs, 1 loop each)\n"
     ]
    }
   ],
   "source": [
    "%timeit my_rbm.test(v1=batched_placeholders['v1'], v2=batched_placeholders['v2'], error_fn=jax.jit(sse))"
   ]
  },
  {
   "cell_type": "code",
   "execution_count": 49,
   "metadata": {},
   "outputs": [
    {
     "name": "stdout",
     "output_type": "stream",
     "text": [
      "4.69 ms ± 168 µs per loop (mean ± std. dev. of 7 runs, 100 loops each)\n"
     ]
    }
   ],
   "source": [
    "%timeit my_rbm.test(v1=batched_placeholders['v1'], v2=batched_placeholders['v2'], error_fn=sse)"
   ]
  },
  {
   "cell_type": "code",
   "execution_count": 50,
   "metadata": {},
   "outputs": [
    {
     "name": "stdout",
     "output_type": "stream",
     "text": [
      "5.8 ms ± 144 µs per loop (mean ± std. dev. of 7 runs, 1 loop each)\n"
     ]
    }
   ],
   "source": [
    "%timeit my_rbm.test(v1=batched_placeholders['v1'], v2=batched_placeholders['v2'], error_fn=sse, K=1, Nb_stabilization_steps=1)"
   ]
  },
  {
   "cell_type": "code",
   "execution_count": 51,
   "metadata": {},
   "outputs": [
    {
     "name": "stdout",
     "output_type": "stream",
     "text": [
      "5.8 ms ± 119 µs per loop (mean ± std. dev. of 7 runs, 1 loop each)\n"
     ]
    }
   ],
   "source": [
    "%timeit my_rbm.test(v1=batched_placeholders['v1'], v2=batched_placeholders['v2'], error_fn=sse, K=10, Nb_stabilization_steps=1)"
   ]
  },
  {
   "cell_type": "code",
   "execution_count": 52,
   "metadata": {},
   "outputs": [
    {
     "name": "stdout",
     "output_type": "stream",
     "text": [
      "5.7 ms ± 115 µs per loop (mean ± std. dev. of 7 runs, 1 loop each)\n"
     ]
    }
   ],
   "source": [
    "%timeit my_rbm.test(v1=batched_placeholders['v1'], v2=batched_placeholders['v2'], error_fn=sse, K=1, Nb_stabilization_steps=10)"
   ]
  },
  {
   "cell_type": "code",
   "execution_count": 53,
   "metadata": {},
   "outputs": [
    {
     "name": "stdout",
     "output_type": "stream",
     "text": [
      "5.9 ms ± 105 µs per loop (mean ± std. dev. of 7 runs, 1 loop each)\n"
     ]
    }
   ],
   "source": [
    "%timeit my_rbm.test(v1=batched_placeholders['v1'], v2=batched_placeholders['v2'], error_fn=sse, K=5, Nb_stabilization_steps=10)"
   ]
  },
  {
   "cell_type": "code",
   "execution_count": 54,
   "metadata": {},
   "outputs": [
    {
     "name": "stdout",
     "output_type": "stream",
     "text": [
      "5.78 ms ± 127 µs per loop (mean ± std. dev. of 7 runs, 1 loop each)\n"
     ]
    }
   ],
   "source": [
    "%timeit my_rbm.test(v1=batched_placeholders['v1'], v2=batched_placeholders['v2'], error_fn=sse, K=10, Nb_stabilization_steps=5)"
   ]
  },
  {
   "cell_type": "code",
   "execution_count": null,
   "metadata": {},
   "outputs": [],
   "source": []
  }
 ],
 "metadata": {
  "kernelspec": {
   "display_name": "PyTorchGPU",
   "language": "python",
   "name": "python3"
  },
  "language_info": {
   "codemirror_mode": {
    "name": "ipython",
    "version": 3
   },
   "file_extension": ".py",
   "mimetype": "text/x-python",
   "name": "python",
   "nbconvert_exporter": "python",
   "pygments_lexer": "ipython3",
   "version": "3.8.17"
  },
  "orig_nbformat": 4
 },
 "nbformat": 4,
 "nbformat_minor": 2
}
